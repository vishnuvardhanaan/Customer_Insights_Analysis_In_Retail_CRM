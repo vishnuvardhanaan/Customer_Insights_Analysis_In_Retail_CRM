{
 "cells": [
  {
   "cell_type": "markdown",
   "metadata": {},
   "source": [
    "# Effectiveness of CRM in Retail Outlet"
   ]
  },
  {
   "cell_type": "markdown",
   "metadata": {},
   "source": [
    "### Data Cleaning"
   ]
  },
  {
   "cell_type": "code",
   "execution_count": 84,
   "metadata": {},
   "outputs": [],
   "source": [
    "# Importing necessary required libraries for analysis\n",
    "\n",
    "import pandas as pd"
   ]
  },
  {
   "cell_type": "code",
   "execution_count": 85,
   "metadata": {},
   "outputs": [],
   "source": [
    "# Reading source file\n",
    "\n",
    "df_DCR = pd.read_excel(r\"F:\\Data Science_Projects & Files\\Projects\\Customer_Insights_Analysis_In_Retail_CRM\\Analysis\\Data_Sources\\Decathlon_Customer Responses.xlsx\")"
   ]
  },
  {
   "cell_type": "code",
   "execution_count": 86,
   "metadata": {},
   "outputs": [],
   "source": [
    "# Removing Duplicates\n",
    "\n",
    "df_DCR = df_DCR.drop_duplicates(subset='Name', keep='first')\n",
    "df_DCR.columns = df_DCR.columns.str.strip()"
   ]
  },
  {
   "cell_type": "code",
   "execution_count": 87,
   "metadata": {},
   "outputs": [],
   "source": [
    "# Splitting Name Column to 3 Columns and Filling Null Values with Blank\n",
    "\n",
    "df_DCR[['first_name', 'middle_name', 'last_name']] = df_DCR['Name'].str.split(' ', expand=True)\n",
    "df_DCR = df_DCR.fillna('')\n",
    "\n",
    "# Removing \".\" from all Names and concating all 3 Names columns by creating new column 'Full Name'\n",
    "\n",
    "df_DCR['first_name'] = df_DCR['first_name'].str.rstrip('.')\n",
    "df_DCR['middle_name'] = df_DCR['middle_name'].str.rstrip('.')\n",
    "df_DCR['last_name'] = df_DCR['last_name'].str.rstrip('.')\n",
    "df_DCR['full_name'] = df_DCR['first_name'] + ' ' + df_DCR['middle_name'] + ' ' + df_DCR['last_name']\n",
    "\n",
    "# Removing all other Names columns\n",
    "\n",
    "df_DCR.drop(columns=['Name', 'first_name', 'middle_name', 'last_name'], inplace=True)"
   ]
  },
  {
   "cell_type": "code",
   "execution_count": 88,
   "metadata": {},
   "outputs": [],
   "source": [
    "# Splitting Date and Time with 12 Hour Format and removing Time Zone and clearing whitespaces\n",
    "\n",
    "df_DCR[['date', 'time_12hr']] = df_DCR['Timestamp'].str.split(' ', n=1, expand=True)\n",
    "df_DCR['time_12hr'] = df_DCR['time_12hr'].str.replace('GMT.*', '', regex=True).str.strip()\n",
    "\n",
    "# Converting 12 Hour Time Format to 24 Hour Time Format\n",
    "\n",
    "df_DCR['time'] = pd.to_datetime(df_DCR['time_12hr'], format = '%I:%M:%S %p').dt.strftime('%H:%M:%S')\n",
    "\n",
    "# Adding Date and Time into one columne date_time and dropping columns date and time columns\n",
    "\n",
    "df_DCR['date_time'] = pd.to_datetime(df_DCR['date'] + ' ' + df_DCR['time'])\n",
    "df_DCR.drop(columns=['Timestamp', 'time_12hr', 'date', 'time'], inplace=True)"
   ]
  },
  {
   "cell_type": "code",
   "execution_count": 89,
   "metadata": {},
   "outputs": [],
   "source": [
    "# Renaming and Sorting Columns\n",
    "\n",
    "columns_reorder = [\n",
    "                'date_time',\n",
    "                'full_name',\n",
    "                'Gender',\t\n",
    "                'Age of Customer?',\n",
    "                'Frequency of visit to the store?',\t\n",
    "                'I am comfortable in using online medium like email, website etc. for queries and complaints',\n",
    "                'I prefer to go home and complain about my issues online',\n",
    "                'Do you feel that issues of customer are addressed in the newer version of the products?',\n",
    "                'Before purchasing do you go through the product details online and analyze it?',\t\n",
    "                'I have felt being deprived of information about a product when asked',\n",
    "                'Do you feel that communicating complaints online is safe, secure and without information loss?',\n",
    "                'I have faced hurdles while raising complaints in person',\n",
    "                'I get instant response to my complaints raised through online',\n",
    "                ]\n",
    "\n",
    "columns_rename = {\n",
    "                'Gender' : 'gender',\n",
    "                'full_name' : 'name',\n",
    "                'Age of Customer?' : 'age_group',\n",
    "                'Frequency of visit to the store?' : 'visit_frequency',\t\n",
    "                'I am comfortable in using online medium like email, website etc. for queries and complaints' : 'online_query_comfort',\n",
    "                'I prefer to go home and complain about my issues online' : 'online_compliant_preference',\n",
    "                'Do you feel that issues of customer are addressed in the newer version of the products?' : 'resolution_in_new_products',\n",
    "                'Before purchasing do you go through the product details online and analyze it?' : 'pre-purchase_research',\t\n",
    "                'I have felt being deprived of information about a product when asked' : 'information_deprivation',\n",
    "                'Do you feel that communicating complaints online is safe, secure and without information loss?' : 'online_compliant_safety',\n",
    "                'I have faced hurdles while raising complaints in person' : 'in-person_complaint_issues',\n",
    "                'I get instant response to my complaints raised through online' : 'instant_online_response'\n",
    "                }\n",
    "\n",
    "df_DCR = df_DCR.reindex(columns=columns_reorder).rename(columns=columns_rename).reset_index().drop(columns='index')"
   ]
  },
  {
   "cell_type": "code",
   "execution_count": 90,
   "metadata": {},
   "outputs": [],
   "source": [
    "# Applying Title Case to all the Text Columns\n",
    "\n",
    "df_DCR = df_DCR.apply(lambda col: col.str.title() if col.dtype == \"object\" else col)\n",
    "\n",
    "# Coverting Categorical Columns to type category to save memory\n",
    "\n",
    "columns_to_convert = df_DCR.columns.difference(['date_time', 'name'])\n",
    "df_DCR[columns_to_convert] = df_DCR[columns_to_convert].astype('category')"
   ]
  },
  {
   "cell_type": "code",
   "execution_count": 91,
   "metadata": {},
   "outputs": [],
   "source": [
    "df_DCR.to_csv(r\"F:\\Data Science_Projects & Files\\Projects\\Customer_Insights_Analysis_In_Retail_CRM\\Analysis\\Output_Data\\DCR_cleaned_data.csv\", sep = \"|\")"
   ]
  }
 ],
 "metadata": {
  "kernelspec": {
   "display_name": "crm_analysis_env",
   "language": "python",
   "name": "python3"
  },
  "language_info": {
   "codemirror_mode": {
    "name": "ipython",
    "version": 3
   },
   "file_extension": ".py",
   "mimetype": "text/x-python",
   "name": "python",
   "nbconvert_exporter": "python",
   "pygments_lexer": "ipython3",
   "version": "3.12.7"
  }
 },
 "nbformat": 4,
 "nbformat_minor": 2
}
